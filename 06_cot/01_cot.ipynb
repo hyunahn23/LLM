{
 "cells": [
  {
   "cell_type": "markdown",
   "id": "54f913b2",
   "metadata": {},
   "source": [
    "# CoT (Chain of Thought)"
   ]
  },
  {
   "cell_type": "code",
   "execution_count": 1,
   "id": "cf78c0f0",
   "metadata": {},
   "outputs": [
    {
     "data": {
      "text/plain": [
       "True"
      ]
     },
     "execution_count": 1,
     "metadata": {},
     "output_type": "execute_result"
    }
   ],
   "source": [
    "from dotenv import load_dotenv\n",
    "load_dotenv()"
   ]
  },
  {
   "cell_type": "code",
   "execution_count": 2,
   "id": "25ceeb5e",
   "metadata": {},
   "outputs": [],
   "source": [
    "import openai\n",
    "client = openai.OpenAI()"
   ]
  },
  {
   "cell_type": "markdown",
   "id": "af6123f8",
   "metadata": {},
   "source": [
    "### 일반 프롬프트 vs Zero-shot CoT"
   ]
  },
  {
   "cell_type": "code",
   "execution_count": 20,
   "id": "262c4a6f",
   "metadata": {},
   "outputs": [],
   "source": [
    "# 일반 프롬프트\n",
    "prompt = '123 x 31 + 17은 얼마인가요?'\n",
    "\n",
    "# Zero-shot CoT 적용 프롬프트\n",
    "cot_prompt = '단계별로 계산해 보세요: 123 x 31 + 17은 얼마인가요?'\n",
    "\n",
    "res = client.chat.completions.create(\n",
    "    model='gpt-4o-mini',\n",
    "    messages=[{\"role\": \"user\", \"content\": prompt}]\n",
    ")\n",
    "\n",
    "cot_res = client.chat.completions.create(\n",
    "    model='gpt-4o-mini',\n",
    "    messages=[{\"role\": \"user\", \"content\": cot_prompt}]\n",
    ")"
   ]
  },
  {
   "cell_type": "code",
   "execution_count": 23,
   "id": "86cf8c8e",
   "metadata": {},
   "outputs": [
    {
     "name": "stdout",
     "output_type": "stream",
     "text": [
      "123 x 31은 3,813입니다. \n",
      "\n",
      "여기에 17을 더하면:\n",
      "\n",
      "3,813 + 17 = 3,830입니다.\n",
      "\n",
      "따라서, 123 x 31 + 17은 3,830입니다.\n"
     ]
    }
   ],
   "source": [
    "print(res.choices[0].message.content)"
   ]
  },
  {
   "cell_type": "code",
   "execution_count": 22,
   "id": "18fe6355",
   "metadata": {},
   "outputs": [
    {
     "name": "stdout",
     "output_type": "stream",
     "text": [
      "주어진 수식 \\( 123 \\times 31 + 17 \\)을 단계별로 계산해 보겠습니다.\n",
      "\n",
      "1. **곱셈 계산**: \n",
      "   \\[\n",
      "   123 \\times 31\n",
      "   \\]\n",
      "\n",
      "   먼저, \\( 123 \\)과 \\( 31 \\)을 곱해보겠습니다.\n",
      "\n",
      "   \\[\n",
      "   123 \\times 31 = 3813\n",
      "   \\]\n",
      "\n",
      "2. **덧셈 계산**:\n",
      "   이제 위에서 구한 결과에 \\( 17 \\)을 더해 보겠습니다.\n",
      "   \\[\n",
      "   3813 + 17 = 3830\n",
      "   \\]\n",
      "\n",
      "따라서 \\( 123 \\times 31 + 17 = 3830 \\)입니다.\n"
     ]
    }
   ],
   "source": [
    "print(cot_res.choices[0].message.content)"
   ]
  },
  {
   "cell_type": "markdown",
   "id": "75ac1a09",
   "metadata": {},
   "source": [
    "### Few-shot CoT"
   ]
  },
  {
   "cell_type": "code",
   "execution_count": null,
   "id": "3a99f846",
   "metadata": {},
   "outputs": [],
   "source": [
    "few_shot_cot = \"\"\"\n",
    "Q: 123 x 31 은 얼마인가요?\n",
    "A: \n",
    "1. 123를 분해합니다: 123 = 100 + 20 + 3\n",
    "2. 각 항을 31과 곱합니다:\n",
    "   - 100 x 31 = 3100\n",
    "   - 20 x 31 = 620\n",
    "   - 3 x 31 = 93\n",
    "\n",
    "3. 이제 이 결과들을 더합니다:\n",
    "   - 3100 + 620 + 93\n",
    "\n",
    "4. 계산을 진행하면:\n",
    "   - 3100 + 620 = 3720\n",
    "   - 3720 + 93 = 3813 \n",
    "\n",
    "따라서, 123 x 31 = 3813입니다.\n",
    "\n",
    "Q: 789 x 56 은 얼마인가요?\n",
    "A:\n",
    "\"\"\"\n",
    "\n",
    "res = client.chat.completions.create(\n",
    "    model='gpt-4',\n",
    "    messages=[{\"role\": \"user\", \"content\": few_shot_cot}]\n",
    ")"
   ]
  },
  {
   "cell_type": "code",
   "execution_count": 27,
   "id": "8c6a94c5",
   "metadata": {},
   "outputs": [
    {
     "name": "stdout",
     "output_type": "stream",
     "text": [
      "1. 789를 분해합니다: 789 = 700 + 80 + 9\n",
      "2. 각 항을 56과 곱합니다:\n",
      "   - 700 x 56 = 39200\n",
      "   - 80 x 56 = 4480\n",
      "   - 9 x 56 = 504\n",
      "\n",
      "3. 이제 이 결과들을 더합니다:\n",
      "   - 39200 + 4480 + 504\n",
      "\n",
      "4. 계산을 진행하면:\n",
      "   - 39200 + 4480 = 43680\n",
      "   - 43680 + 504 = 44184 \n",
      "\n",
      "따라서, 789 x 56 =\n",
      "44184입니다.\n"
     ]
    }
   ],
   "source": [
    "print(res.choices[0].message.content)"
   ]
  },
  {
   "cell_type": "markdown",
   "id": "a8128edb",
   "metadata": {},
   "source": [
    "### 논리 문제 해결"
   ]
  },
  {
   "cell_type": "code",
   "execution_count": 28,
   "id": "909f0b34",
   "metadata": {},
   "outputs": [],
   "source": [
    "prompt = \"앨리스(Alice)는 밥(Bob)보다 나이가 많다. 밥(Bob)은 찰리(Charlie)보다 나이가 많다. 데이비드(David)는 앨리스(Alice)보다 어리지만, 에밀리(Emily)보다는 많다. 찰리(Charlie)는 프랭크(Frank)보다 많다. 에밀리(Emily)는 찰리(Charlie)보다 나이가 많지만, 밥(Bob)보다는 어리다. 프랭크(Frank)는 데이비드(David)보다 어리다. 그렇다면 가장 어린 사람은 누구인가요?\"\n",
    "\n",
    "cot_prompt = \"단계적으로 생각해서 대답해주세요: 앨리스(Alice)는 밥(Bob)보다 나이가 많다. 밥(Bob)은 찰리(Charlie)보다 나이가 많다. 데이비드(David)는 앨리스(Alice)보다 어리지만, 에밀리(Emily)보다는 많다. 찰리(Charlie)는 프랭크(Frank)보다 많다. 에밀리(Emily)는 찰리(Charlie)보다 나이가 많지만, 밥(Bob)보다는 어리다. 프랭크(Frank)는 데이비드(David)보다 어리다. 그렇다면 가장 어린 사람은 누구인가요?\""
   ]
  },
  {
   "cell_type": "code",
   "execution_count": 29,
   "id": "53b23f09",
   "metadata": {},
   "outputs": [],
   "source": [
    "res = client.chat.completions.create(\n",
    "    model='gpt-4',\n",
    "    messages=[{\"role\": \"user\", \"content\": prompt}]\n",
    ")\n",
    "\n",
    "cot_res = client.chat.completions.create(\n",
    "    model='gpt-4',\n",
    "    messages=[{\"role\": \"user\", \"content\": cot_prompt}]\n",
    ")"
   ]
  },
  {
   "cell_type": "code",
   "execution_count": 30,
   "id": "f2e49166",
   "metadata": {},
   "outputs": [
    {
     "name": "stdout",
     "output_type": "stream",
     "text": [
      "가장 어린 사람은 프랭크(Frank)입니다.\n"
     ]
    }
   ],
   "source": [
    "print(res.choices[0].message.content)"
   ]
  },
  {
   "cell_type": "code",
   "execution_count": 31,
   "id": "b238ab87",
   "metadata": {},
   "outputs": [
    {
     "name": "stdout",
     "output_type": "stream",
     "text": [
      "본문에 주어진 정보를 바탕으로 대답하기 위해 각 인물의 나이 순서를 좀 더 쉽게 확인할 수 있는 형태로 재정렬 해보겠습니다.\n",
      "\n",
      "1. 앨리스(Alice)는 밥(Bob)보다 나이가 많다.\n",
      "2. 밥(Bob)은 찰리(Charlie)보다 나이가 많다.\n",
      "3. 찰리(Charlie)는 프랭크(Frank)보다 나이가 많다.\n",
      "4. 따라서, 앨리스, 밥, 찰리, 프랭크 순으로 나이가 많은 순이라 할수 있습니다.\n",
      "\n",
      "또한, \n",
      "5. 데이비드(David)는 앨리스(Alice)보다 어리지만, 에밀리(Emily)보다는 나이가 많다.\n",
      "6. 에밀리(Emily)는 찰리(Charlie)보다 나이가 많지만, 밥(Bob)보다는 어리다. \n",
      "7. 밥, 찰리 순으로 나이 차가 있으니 찰리와 에밀리 사이에 데이비드가 위치하므로, 에밀리, 데이비드, 찰리 순으로 나이가 많은 순이라 할 수 있습니다.\n",
      "\n",
      "그리고\n",
      "8. 프랭크(Frank)는 데이비드(David)보다 어리다.\n",
      "\n",
      "따라서, 가장 어린 사람은 7번과 8번에 따라 프랭크(Frank)입니다.\n"
     ]
    }
   ],
   "source": [
    "print(cot_res.choices[0].message.content)"
   ]
  },
  {
   "cell_type": "markdown",
   "id": "e26f2c0f",
   "metadata": {},
   "source": [
    "### 코드 디버깅"
   ]
  },
  {
   "cell_type": "code",
   "execution_count": 32,
   "id": "63362fdf",
   "metadata": {},
   "outputs": [],
   "source": [
    "prompt = \"\"\"\n",
    "다음과 같이 코드를 작성했더니 에러가 발생합니다. 왜일까요?\n",
    "\n",
    "def add_numbers(a, b):\n",
    "return a + b\n",
    "\n",
    "print(add_numbers(1, 2))\n",
    "\"\"\"\n",
    "\n",
    "cot_prompt = \"\"\"\n",
    "다음과 같이 코드를 작성했더니 에러가 발생합니다. \n",
    "실수가 무엇인지 찾아 단계별로 설명해 주세요.\n",
    "\n",
    "def add_numbers(a, b):\n",
    "return a + b\n",
    "\n",
    "print(add_numbers(1, 2))\n",
    "\"\"\""
   ]
  },
  {
   "cell_type": "code",
   "execution_count": 33,
   "id": "4bc26f5a",
   "metadata": {},
   "outputs": [],
   "source": [
    "res = client.chat.completions.create(\n",
    "    model='gpt-4',\n",
    "    messages=[{\"role\": \"user\", \"content\": prompt}]\n",
    ")\n",
    "\n",
    "cot_res = client.chat.completions.create(\n",
    "    model='gpt-4',\n",
    "    messages=[{\"role\": \"user\", \"content\": cot_prompt}]\n",
    ")"
   ]
  },
  {
   "cell_type": "code",
   "execution_count": 34,
   "id": "37e04f9b",
   "metadata": {},
   "outputs": [
    {
     "name": "stdout",
     "output_type": "stream",
     "text": [
      "python에서는 공백이 코드의 블록을 구분하는 데 중요합니다. 함수의 내용은 반드시 들여쓰기(indentation)를 해야 합니다. 그래서 에러가 발생한 것입니다. \n",
      "\n",
      "아래와 같이 코드를 수정하면 됩니다:\n",
      "\n",
      "```python\n",
      "def add_numbers(a, b):\n",
      "    return a + b\n",
      "\n",
      "print(add_numbers(1, 2))\n",
      "```\n"
     ]
    }
   ],
   "source": [
    "print(res.choices[0].message.content)"
   ]
  },
  {
   "cell_type": "code",
   "execution_count": 35,
   "id": "5308c5de",
   "metadata": {},
   "outputs": [
    {
     "name": "stdout",
     "output_type": "stream",
     "text": [
      "여기에는 파이썬의 들여쓰기를 관리하는 방식이 포함돼 있어 에러가 발생했습니다. 파이썬은 들여쓰기를 강제하여 코드의 가독성을 증가시키며, 구문의 시작과 끝을 명확하게 합니다.\n",
      "\n",
      "잘못된 코드는 다음과 같습니다:\n",
      "\n",
      "def add_numbers(a, b):\n",
      "return a + b\n",
      "\n",
      "여기서는 함수 add_numbers의 본문이 들여쓰기 되지 않았기 때문에 에러가 발생하게 됩니다. \n",
      "\n",
      "정확한 코드는 다음과 같이 들여쓰기를 사용하여 작성해야 합니다:\n",
      "\n",
      "def add_numbers(a, b):\n",
      "    return a + b\n",
      "\n",
      "print(add_numbers(1, 2))\n",
      "\n",
      "여기서 return은 함수 add_numbers의 본문의 일부이며, 이는 반드시 들여쓰기 해야 합니다. 이렇게 하면 제대로 작동하게 됩니다.\n"
     ]
    }
   ],
   "source": [
    "print(cot_res.choices[0].message.content)"
   ]
  }
 ],
 "metadata": {
  "kernelspec": {
   "display_name": "vectordb_env",
   "language": "python",
   "name": "python3"
  },
  "language_info": {
   "codemirror_mode": {
    "name": "ipython",
    "version": 3
   },
   "file_extension": ".py",
   "mimetype": "text/x-python",
   "name": "python",
   "nbconvert_exporter": "python",
   "pygments_lexer": "ipython3",
   "version": "3.9.21"
  }
 },
 "nbformat": 4,
 "nbformat_minor": 5
}
