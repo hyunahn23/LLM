{
 "cells": [
  {
   "cell_type": "markdown",
   "id": "8e0411da",
   "metadata": {},
   "source": [
    "# Pinecone DB (프리티어 사용)"
   ]
  },
  {
   "cell_type": "code",
   "execution_count": 1,
   "id": "0ec5cfe9",
   "metadata": {},
   "outputs": [
    {
     "name": "stdout",
     "output_type": "stream",
     "text": [
      "Collecting pinecone\n",
      "  Downloading pinecone-6.0.2-py3-none-any.whl.metadata (9.0 kB)\n",
      "Requirement already satisfied: certifi>=2019.11.17 in c:\\users\\playdata\\anaconda3\\envs\\vectordb_env\\lib\\site-packages (from pinecone) (2025.1.31)\n",
      "Collecting pinecone-plugin-interface<0.0.8,>=0.0.7 (from pinecone)\n",
      "  Downloading pinecone_plugin_interface-0.0.7-py3-none-any.whl.metadata (1.2 kB)\n",
      "Requirement already satisfied: python-dateutil>=2.5.3 in c:\\users\\playdata\\anaconda3\\envs\\vectordb_env\\lib\\site-packages (from pinecone) (2.9.0.post0)\n",
      "Requirement already satisfied: typing-extensions>=3.7.4 in c:\\users\\playdata\\anaconda3\\envs\\vectordb_env\\lib\\site-packages (from pinecone) (4.13.2)\n",
      "Requirement already satisfied: urllib3>=1.26.0 in c:\\users\\playdata\\anaconda3\\envs\\vectordb_env\\lib\\site-packages (from pinecone) (2.4.0)\n",
      "Requirement already satisfied: six>=1.5 in c:\\users\\playdata\\anaconda3\\envs\\vectordb_env\\lib\\site-packages (from python-dateutil>=2.5.3->pinecone) (1.17.0)\n",
      "Downloading pinecone-6.0.2-py3-none-any.whl (421 kB)\n",
      "Downloading pinecone_plugin_interface-0.0.7-py3-none-any.whl (6.2 kB)\n",
      "Installing collected packages: pinecone-plugin-interface, pinecone\n",
      "Successfully installed pinecone-6.0.2 pinecone-plugin-interface-0.0.7\n"
     ]
    }
   ],
   "source": [
    "!pip install pinecone"
   ]
  },
  {
   "cell_type": "code",
   "execution_count": 2,
   "id": "2ce4ed09",
   "metadata": {},
   "outputs": [
    {
     "name": "stderr",
     "output_type": "stream",
     "text": [
      "c:\\Users\\Playdata\\anaconda3\\envs\\vectordb_env\\lib\\site-packages\\tqdm\\auto.py:21: TqdmWarning: IProgress not found. Please update jupyter and ipywidgets. See https://ipywidgets.readthedocs.io/en/stable/user_install.html\n",
      "  from .autonotebook import tqdm as notebook_tqdm\n"
     ]
    },
    {
     "data": {
      "text/plain": [
       "{\n",
       "    \"name\": \"reviewtest\",\n",
       "    \"metric\": \"cosine\",\n",
       "    \"host\": \"reviewtest-ynau2d6.svc.aped-4627-b74a.pinecone.io\",\n",
       "    \"spec\": {\n",
       "        \"serverless\": {\n",
       "            \"cloud\": \"aws\",\n",
       "            \"region\": \"us-east-1\"\n",
       "        }\n",
       "    },\n",
       "    \"status\": {\n",
       "        \"ready\": true,\n",
       "        \"state\": \"Ready\"\n",
       "    },\n",
       "    \"vector_type\": \"dense\",\n",
       "    \"dimension\": 384,\n",
       "    \"deletion_protection\": \"disabled\",\n",
       "    \"tags\": null\n",
       "}"
      ]
     },
     "execution_count": 2,
     "metadata": {},
     "output_type": "execute_result"
    }
   ],
   "source": [
    "from pinecone import Pinecone, ServerlessSpec\n",
    "\n",
    "pc = Pinecone(api_key=\"pcsk_6yQ1PT_6emC5ry7ZCvtLfgFGpvMJsUAsR3B3cTdquQYZkemddrQBGrERJsXFhuKbG43UNM\")\n",
    "index_name = \"reviewtest\"\n",
    "\n",
    "pc.create_index(\n",
    "    name=index_name,\n",
    "    dimension=384,\n",
    "    metric=\"cosine\",\n",
    "    spec=ServerlessSpec(\n",
    "        cloud=\"aws\",\n",
    "        region=\"us-east-1\"\n",
    "    )\n",
    ")"
   ]
  },
  {
   "cell_type": "code",
   "execution_count": null,
   "id": "870d63c3",
   "metadata": {},
   "outputs": [],
   "source": [
    "reviews = [\n",
    "    {\"id\": \"1\", \"text\": \"성능이 빠르고 부팅 속도도 빨라서 만족스러워요!\", \"sentiment\": \"positive\"},\n",
    "    {\"id\": \"2\", \"text\": \"배터리가 너무 빨리 닳아서 외출할 땐 불편해요.\", \"sentiment\": \"negative\"},\n",
    "    {\"id\": \"3\", \"text\": \"화면이 선명하고 색감도 좋아서 디자인 작업에 딱이에요.\", \"sentiment\": \"positive\"},\n",
    "    {\"id\": \"4\", \"text\": \"팬 소음이 생각보다 심해서 집중이 잘 안 돼요.\", \"sentiment\": \"negative\"},\n",
    "    {\"id\": \"5\", \"text\": \"가볍고 휴대성이 좋아서 어디서든 쓰기 좋아요.\", \"sentiment\": \"positive\"},\n",
    "    {\"id\": \"6\", \"text\": \"처음엔 괜찮았는데 며칠 쓰고 나서 버벅거려요.\", \"sentiment\": \"negative\"},\n",
    "    {\"id\": \"7\", \"text\": \"터치패드 반응도 좋고 키보드 타건감도 만족스럽네요.\", \"sentiment\": \"positive\"},\n",
    "    {\"id\": \"8\", \"text\": \"인터넷 연결이 자주 끊겨서 스트레스 받아요.\", \"sentiment\": \"negative\"},\n",
    "    {\"id\": \"9\", \"text\": \"영상 시청할 때 화질과 사운드가 모두 뛰어나요!\", \"sentiment\": \"positive\"},\n",
    "    {\"id\": \"10\", \"text\": \"발열이 심해서 오래 쓰기가 힘들어요.\", \"sentiment\": \"negative\"},\n",
    "    {\"id\": \"11\", \"text\": \"가성비 최고예요. 이 가격에 이런 성능이라니!\", \"sentiment\": \"positive\"},\n",
    "    {\"id\": \"12\", \"text\": \"충전기가 너무 크고 무거워서 들고 다니기 불편해요.\", \"sentiment\": \"negative\"},\n",
    "    {\"id\": \"13\", \"text\": \"부팅도 빠르고 여러 프로그램 동시에 켜도 무리 없어요.\", \"sentiment\": \"positive\"},\n",
    "    {\"id\": \"14\", \"text\": \"배송 상태가 안 좋아서 기스가 있었어요.\", \"sentiment\": \"negative\"},\n",
    "    {\"id\": \"15\", \"text\": \"디자인이 세련되고 얇아서 들고 다니기 좋아요.\", \"sentiment\": \"positive\"},\n",
    "    {\"id\": \"16\", \"text\": \"OS 업데이트 이후에 자꾸 오류가 생기네요.\", \"sentiment\": \"negative\"},\n",
    "    {\"id\": \"17\", \"text\": \"화면 크기가 커서 작업할 때 정말 편리해요.\", \"sentiment\": \"positive\"},\n",
    "    {\"id\": \"18\", \"text\": \"소프트웨어 호환 문제가 많아서 자주 멈춰요.\", \"sentiment\": \"negative\"},\n",
    "    {\"id\": \"19\", \"text\": \"프리미엄 모델답게 전반적으로 퀄리티가 높아요.\", \"sentiment\": \"positive\"},\n",
    "    {\"id\": \"20\", \"text\": \"AS 서비스가 별로라서 실망했어요.\", \"sentiment\": \"negative\"}\n",
    "]"
   ]
  },
  {
   "cell_type": "code",
   "execution_count": 4,
   "id": "c0dc0e0e",
   "metadata": {},
   "outputs": [],
   "source": [
    "# Pinecone index 및 임베딩 모델 로드드\n",
    "from sentence_transformers import SentenceTransformer\n",
    "\n",
    "pc = Pinecone(api_key=\"pcsk_6yQ1PT_6emC5ry7ZCvtLfgFGpvMJsUAsR3B3cTdquQYZkemddrQBGrERJsXFhuKbG43UNM\")\n",
    "idx = pc.Index(index_name)\n",
    "\n",
    "model = SentenceTransformer('all-MiniLM-L6-v2')"
   ]
  },
  {
   "cell_type": "code",
   "execution_count": null,
   "id": "a3f05b10",
   "metadata": {},
   "outputs": [],
   "source": [
    "# index에 리뷰 데이터 추가\n",
    "for review in reviews:\n",
    "    review_embed = model.encode(review['text']).tolist()\n",
    "    idx.upsert([\n",
    "        (\n",
    "            review['id'],\n",
    "            review_embed,\n",
    "            {\n",
    "                'text': review['text'],\n",
    "                'sentiment': review['sentiment']\n",
    "            }\n",
    "        )\n",
    "    ])"
   ]
  },
  {
   "cell_type": "markdown",
   "id": "9ccbb556",
   "metadata": {},
   "source": [
    "### 리뷰 데이터 조회"
   ]
  },
  {
   "cell_type": "code",
   "execution_count": 6,
   "id": "23be91e8",
   "metadata": {},
   "outputs": [
    {
     "data": {
      "text/plain": [
       "{'matches': [{'id': '14',\n",
       "              'metadata': {'sentiment': 'negative',\n",
       "                           'text': '배송 상태가 안 좋아서 기스가 있었어요.'},\n",
       "              'score': 0.764045238,\n",
       "              'values': []},\n",
       "             {'id': '1',\n",
       "              'metadata': {'sentiment': 'positive',\n",
       "                           'text': '성능이 빠르고 부팅 속도도 빨라서 만족스러워요!'},\n",
       "              'score': 0.728726566,\n",
       "              'values': []},\n",
       "             {'id': '2',\n",
       "              'metadata': {'sentiment': 'negative',\n",
       "                           'text': '배터리가 너무 빨리 닳아서 외출할 땐 불편해요.'},\n",
       "              'score': 0.711406112,\n",
       "              'values': []}],\n",
       " 'namespace': '',\n",
       " 'usage': {'read_units': 6}}"
      ]
     },
     "execution_count": 6,
     "metadata": {},
     "output_type": "execute_result"
    }
   ],
   "source": [
    "query_text = \"이 노트북의 성능은 괜찮은가요?\"\n",
    "query_embed = model.encode(query_text).tolist()\n",
    "\n",
    "results = idx.query(\n",
    "    vector=query_embed,\n",
    "    top_k=3,\n",
    "    include_metadata=True\n",
    ")\n",
    "\n",
    "results"
   ]
  },
  {
   "cell_type": "code",
   "execution_count": 9,
   "id": "35b64be3",
   "metadata": {},
   "outputs": [
    {
     "name": "stdout",
     "output_type": "stream",
     "text": [
      "배송 상태가 안 좋아서 기스가 있었어요. (감성: negative)\n",
      "성능이 빠르고 부팅 속도도 빨라서 만족스러워요! (감성: positive)\n",
      "배터리가 너무 빨리 닳아서 외출할 땐 불편해요. (감성: negative)\n"
     ]
    }
   ],
   "source": [
    "for review in results['matches']:\n",
    "    metadata = review['metadata']\n",
    "    print(metadata['text'], f'(감성: {metadata[\"sentiment\"]})')"
   ]
  },
  {
   "cell_type": "markdown",
   "id": "1827e70c",
   "metadata": {},
   "source": [
    "### 리뷰 감성 분석석"
   ]
  },
  {
   "cell_type": "code",
   "execution_count": 10,
   "id": "5f1179a0",
   "metadata": {},
   "outputs": [
    {
     "data": {
      "text/plain": [
       "{'matches': [{'id': '1',\n",
       "              'metadata': {'sentiment': 'positive',\n",
       "                           'text': '성능이 빠르고 부팅 속도도 빨라서 만족스러워요!'},\n",
       "              'score': 0.909920573,\n",
       "              'values': []},\n",
       "             {'id': '6',\n",
       "              'metadata': {'sentiment': 'negative',\n",
       "                           'text': '처음엔 괜찮았는데 며칠 쓰고 나서 버벅거려요.'},\n",
       "              'score': 0.846480906,\n",
       "              'values': []},\n",
       "             {'id': '7',\n",
       "              'metadata': {'sentiment': 'positive',\n",
       "                           'text': '터치패드 반응도 좋고 키보드 타건감도 만족스럽네요.'},\n",
       "              'score': 0.816115379,\n",
       "              'values': []},\n",
       "             {'id': '2',\n",
       "              'metadata': {'sentiment': 'negative',\n",
       "                           'text': '배터리가 너무 빨리 닳아서 외출할 땐 불편해요.'},\n",
       "              'score': 0.808998048,\n",
       "              'values': []},\n",
       "             {'id': '12',\n",
       "              'metadata': {'sentiment': 'negative',\n",
       "                           'text': '충전기가 너무 크고 무거워서 들고 다니기 불편해요.'},\n",
       "              'score': 0.804121,\n",
       "              'values': []}],\n",
       " 'namespace': '',\n",
       " 'usage': {'read_units': 6}}"
      ]
     },
     "execution_count": 10,
     "metadata": {},
     "output_type": "execute_result"
    }
   ],
   "source": [
    "query_text = \"배터리도 빨리 닳고 벽돌보다 무거워요. 비추천\"\n",
    "query_embed = model.encode(query_text).tolist()\n",
    "\n",
    "results = idx.query(\n",
    "    vector=query_embed,\n",
    "    top_k=5,\n",
    "    include_metadata=True\n",
    ")\n",
    "\n",
    "results"
   ]
  },
  {
   "cell_type": "code",
   "execution_count": 11,
   "id": "e09ef43f",
   "metadata": {},
   "outputs": [
    {
     "name": "stdout",
     "output_type": "stream",
     "text": [
      "리뷰 분석 결과: negative\n"
     ]
    }
   ],
   "source": [
    "sentiment_counts = {\n",
    "    \"positive\": 0,\n",
    "    \"negative\": 0\n",
    "}\n",
    "\n",
    "for review in results['matches']:\n",
    "    sentiment = review['metadata'][\"sentiment\"]\n",
    "    sentiment_counts[sentiment] += 1\n",
    "\n",
    "print(f\"리뷰 분석 결과: {'positive' if sentiment_counts['positive'] > sentiment_counts['negative'] else 'negative'}\")"
   ]
  }
 ],
 "metadata": {
  "kernelspec": {
   "display_name": "vectordb_env",
   "language": "python",
   "name": "python3"
  },
  "language_info": {
   "codemirror_mode": {
    "name": "ipython",
    "version": 3
   },
   "file_extension": ".py",
   "mimetype": "text/x-python",
   "name": "python",
   "nbconvert_exporter": "python",
   "pygments_lexer": "ipython3",
   "version": "3.9.21"
  }
 },
 "nbformat": 4,
 "nbformat_minor": 5
}
