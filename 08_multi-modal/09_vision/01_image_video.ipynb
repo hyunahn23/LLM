{
 "cells": [
  {
   "cell_type": "markdown",
   "id": "1afb4a3f",
   "metadata": {},
   "source": [
    "# OpenCV\n",
    "- 오픈소스 컴퓨터 비전 라이브러리\n",
    "\n",
    "**주요 기능**\n",
    "1. 이미지 처리\n",
    "2. 비디오 분석\n",
    "3. 컴퓨터 비전 알고리즘\n",
    "4. 딥러닝 통합"
   ]
  },
  {
   "cell_type": "code",
   "execution_count": 1,
   "id": "d6e12908",
   "metadata": {},
   "outputs": [
    {
     "name": "stdout",
     "output_type": "stream",
     "text": [
      "Collecting opencv-python\n",
      "  Downloading opencv_python-4.11.0.86-cp37-abi3-win_amd64.whl.metadata (20 kB)\n",
      "Requirement already satisfied: numpy>=1.21.2 in c:\\users\\playdata\\anaconda3\\envs\\pystudy_env\\lib\\site-packages (from opencv-python) (1.26.4)\n",
      "Downloading opencv_python-4.11.0.86-cp37-abi3-win_amd64.whl (39.5 MB)\n",
      "   ---------------------------------------- 0.0/39.5 MB ? eta -:--:--\n",
      "   -- ------------------------------------- 2.1/39.5 MB 11.8 MB/s eta 0:00:04\n",
      "   ------ --------------------------------- 6.6/39.5 MB 16.8 MB/s eta 0:00:02\n",
      "   --------- ------------------------------ 9.4/39.5 MB 15.9 MB/s eta 0:00:02\n",
      "   -------------- ------------------------- 13.9/39.5 MB 17.5 MB/s eta 0:00:02\n",
      "   ------------------ --------------------- 18.6/39.5 MB 18.4 MB/s eta 0:00:02\n",
      "   ----------------------- ---------------- 23.6/39.5 MB 19.1 MB/s eta 0:00:01\n",
      "   ---------------------------- ----------- 28.6/39.5 MB 20.1 MB/s eta 0:00:01\n",
      "   --------------------------------- ------ 33.3/39.5 MB 20.3 MB/s eta 0:00:01\n",
      "   -------------------------------------- - 38.3/39.5 MB 21.0 MB/s eta 0:00:01\n",
      "   ---------------------------------------- 39.5/39.5 MB 19.9 MB/s eta 0:00:00\n",
      "Installing collected packages: opencv-python\n",
      "Successfully installed opencv-python-4.11.0.86\n"
     ]
    }
   ],
   "source": [
    "# 환경 설정\n",
    "!pip install opencv-python"
   ]
  },
  {
   "cell_type": "markdown",
   "id": "4e5dcced",
   "metadata": {},
   "source": [
    "### 1. 이미지 처리"
   ]
  },
  {
   "cell_type": "code",
   "execution_count": 5,
   "id": "fe65957a",
   "metadata": {},
   "outputs": [],
   "source": [
    "import cv2\n",
    "\n",
    "img = cv2.imread('dog.jpg')\n",
    "img = cv2.imread('dog.jpg', cv2.IMREAD_COLOR) # 기본값\n",
    "img = cv2.imread('dog.jpg', cv2.IMREAD_GRAYSCALE) # 회색조 이미지\n",
    "\n",
    "cv2.imshow('My Image', img)\n",
    "cv2.waitKey(0)\n",
    "cv2.destroyAllWindows()"
   ]
  },
  {
   "cell_type": "code",
   "execution_count": 6,
   "id": "39c8b503",
   "metadata": {},
   "outputs": [
    {
     "name": "stdout",
     "output_type": "stream",
     "text": [
      "<class 'numpy.ndarray'>\n",
      "(853, 1280)\n"
     ]
    }
   ],
   "source": [
    "print(type(img))\n",
    "print(img.shape)"
   ]
  },
  {
   "cell_type": "markdown",
   "id": "8d836cd7",
   "metadata": {},
   "source": [
    "### 2. 동영상 처리"
   ]
  },
  {
   "cell_type": "code",
   "execution_count": 11,
   "id": "319f625e",
   "metadata": {},
   "outputs": [
    {
     "name": "stdout",
     "output_type": "stream",
     "text": [
      "350.0 25.0 640.0 360.0\n",
      "<class 'cv2.VideoCapture'>\n"
     ]
    }
   ],
   "source": [
    "import cv2\n",
    "\n",
    "cap = cv2.VideoCapture('video.mp4')\n",
    "\n",
    "frame_count = cap.get(cv2.CAP_PROP_FRAME_COUNT)\n",
    "fps = cap.get(cv2.CAP_PROP_FPS)\n",
    "width = cap.get(cv2.CAP_PROP_FRAME_WIDTH)\n",
    "height = cap.get(cv2.CAP_PROP_FRAME_HEIGHT)\n",
    "print(frame_count, fps, width, height)\n",
    "print(type(cap))\n",
    "\n",
    "while cap.isOpened():\n",
    "    ret, frame = cap.read()\n",
    "    if not ret:\n",
    "        break\n",
    "\n",
    "    cv2.imshow('My Video', frame)\n",
    "\n",
    "    if cv2.waitKey(int(1000/fps)) == ord('q'):\n",
    "        break\n",
    "\n",
    "cap.release()\n",
    "cv2.destroyAllWindows()"
   ]
  },
  {
   "cell_type": "code",
   "execution_count": 12,
   "id": "0980c363",
   "metadata": {},
   "outputs": [
    {
     "data": {
      "text/plain": [
       "113"
      ]
     },
     "execution_count": 12,
     "metadata": {},
     "output_type": "execute_result"
    }
   ],
   "source": [
    "ord('q')"
   ]
  },
  {
   "cell_type": "markdown",
   "id": "fdc02a3b",
   "metadata": {},
   "source": [
    "### 3. 웹캠 영상 처리"
   ]
  },
  {
   "cell_type": "code",
   "execution_count": null,
   "id": "71dd1ac5",
   "metadata": {},
   "outputs": [],
   "source": [
    "import cv2\n",
    "\n",
    "cap = cv2.VideoCapture(0)\n",
    "\n",
    "if not cap.isOpened():\n",
    "    print('Error: 웹캠을 열 수 없습니다.')\n",
    "    exit()\n",
    "\n",
    "while True:\n",
    "    ret, frame = cap.read()\n",
    "    if not ret:\n",
    "        break\n",
    "    cv2.imshow('My Webcam', frame)\n",
    "    if cv2.waitKey(1) == ord('q'):\n",
    "        break\n",
    "\n",
    "cap.release()\n",
    "cv2.destroyAllWindows()"
   ]
  }
 ],
 "metadata": {
  "kernelspec": {
   "display_name": "pystudy_env",
   "language": "python",
   "name": "python3"
  },
  "language_info": {
   "codemirror_mode": {
    "name": "ipython",
    "version": 3
   },
   "file_extension": ".py",
   "mimetype": "text/x-python",
   "name": "python",
   "nbconvert_exporter": "python",
   "pygments_lexer": "ipython3",
   "version": "3.12.9"
  }
 },
 "nbformat": 4,
 "nbformat_minor": 5
}
