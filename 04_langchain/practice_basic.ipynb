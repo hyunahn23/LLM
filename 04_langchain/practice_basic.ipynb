{
 "cells": [
  {
   "cell_type": "code",
   "execution_count": 1,
   "id": "2ff47df8",
   "metadata": {},
   "outputs": [
    {
     "data": {
      "text/plain": [
       "True"
      ]
     },
     "execution_count": 1,
     "metadata": {},
     "output_type": "execute_result"
    }
   ],
   "source": [
    "# 환경설정\n",
    "from dotenv import load_dotenv\n",
    "load_dotenv()"
   ]
  },
  {
   "cell_type": "markdown",
   "id": "e3d8a5ce",
   "metadata": {},
   "source": [
    "### Chain을 이용한 Simple LLM\n",
    "1. PromptTemplate\n",
    "2. LLM\n",
    "3. OutputParser"
   ]
  },
  {
   "cell_type": "code",
   "execution_count": 2,
   "id": "cdb8aeb1",
   "metadata": {},
   "outputs": [],
   "source": [
    "# 1. PromptTemplate\n",
    "from langchain_core.prompts import ChatPromptTemplate\n",
    "\n",
    "prompt_template = ChatPromptTemplate([\n",
    "    ('system', '너는 애니메이션을 잘 아는 챗봇이야. 사용자의 질문에 친절하고 상세하게 답변할 수 있어.'), \n",
    "    ('user', '{question}')\n",
    "])"
   ]
  },
  {
   "cell_type": "code",
   "execution_count": 3,
   "id": "f1017e47",
   "metadata": {},
   "outputs": [],
   "source": [
    "# 2. Model\n",
    "from langchain_openai import ChatOpenAI\n",
    "\n",
    "model = ChatOpenAI(\n",
    "    model_name=\"gpt-4o-mini\",\n",
    "    temperature=0.3\n",
    ")"
   ]
  },
  {
   "cell_type": "code",
   "execution_count": 4,
   "id": "184e7534",
   "metadata": {},
   "outputs": [],
   "source": [
    "# 3. OutputParser (StrOutputParser)\n",
    "from langchain_core.output_parsers import StrOutputParser\n",
    "\n",
    "output_parser = StrOutputParser()"
   ]
  },
  {
   "cell_type": "code",
   "execution_count": 5,
   "id": "8a3b73f5",
   "metadata": {},
   "outputs": [
    {
     "data": {
      "text/plain": [
       "\"포켓몬의 강함은 여러 요소에 따라 다르게 평가될 수 있습니다. 일반적으로는 스탯, 타입 상성, 기술 조합, 그리고 배틀 상황에 따라 달라지죠. 하지만 많은 팬들이 강력하다고 평가하는 포켓몬 몇 가지를 소개할게요.\\n\\n1. **아르세우스 (Arceus)**: '포켓몬의 신'으로 불리며, 모든 타입으로 변신할 수 있는 능력을 가지고 있습니다. 기본 스탯이 매우 높아 다양한 전략을 구사할 수 있습니다.\\n\\n2. **메가 레쿠자 (Mega Rayquaza)**: 메가 진화를 통해 매우 높은 공격력과 스피드를 자랑합니다. 또한, 비행/드래곤 타입으로 다양한 기술을 사용할 수 있어 강력한 배틀 파트너입니다.\\n\\n3. **뮤츠 (Mewtwo)**: 전설의 포켓몬 중 하나로, 두 가지 메가 진화 형태를 가지고 있습니다. 높은 스탯과 강력한 기술 덕분에 많은 배틀에서 강력한 성능을 발휘합니다.\\n\\n4. **프리저 (Zygarde)**: 100% 형태로 변신할 경우, 매우 높은 방어력과 체력을 자랑하며, 다양한 타입의 기술을 사용할 수 있습니다.\\n\\n5. **다크라이 (Darkrai)**: 특수 공격력이 매우 높고, '악몽' 같은 상태 이상 기술로 상대를 제압할 수 있는 능력이 있습니다.\\n\\n각 포켓몬의 강함은 배틀 환경, 메타, 그리고 사용자의 전략에 따라 달라질 수 있으니, 자신이 좋아하는 포켓몬을 잘 활용하는 것도 중요합니다! 어떤 포켓몬이 가장 강하다고 생각하나요?\""
      ]
     },
     "execution_count": 5,
     "metadata": {},
     "output_type": "execute_result"
    }
   ],
   "source": [
    "# 4. Chain -> 질의\n",
    "# question: 어떤 포켓몬이 가장 강해?\n",
    "\n",
    "chain = prompt_template | model | output_parser\n",
    "chain.invoke({'question': '어떤 포켓몬이 가장 강해?'})"
   ]
  },
  {
   "cell_type": "code",
   "execution_count": 6,
   "id": "a4f30068",
   "metadata": {},
   "outputs": [
    {
     "data": {
      "text/plain": [
       "'포켓몬의 강함은 여러 요소에 따라 달라질 수 있습니다. 예를 들어, 포켓몬의 타입, 스탯, 기술, 그리고 배틀 상황 등이 모두 영향을 미칩니다. 일반적으로 \"가장 강한 포켓몬\"이라고 하면 다음과 같은 포켓몬들이 자주 언급됩니다:\\n\\n1. **아르세우스(Arceus)**: \\'포켓몬의 신\\'으로 불리며, 모든 타입을 가질 수 있는 능력을 가지고 있습니다. 기본 스탯이 매우 높아 다양한 전략을 사용할 수 있습니다.\\n\\n2. **메가 레쿠자( Mega Rayquaza)**: 레쿠자와 메가 진화를 통해 매우 높은 공격력과 스피드를 자랑합니다. 또한, 특별한 능력 덕분에 아이템 없이도 강력한 성능을 발휘합니다.\\n\\n3. **무장조(Dragapult)**: 드래곤/고스트 타입으로, 높은 스피드와 공격력을 가지고 있어 많은 배틀에서 유용하게 쓰입니다.\\n\\n4. **프리저(Freezer)**: 전설의 포켓몬으로, 높은 스탯과 다양한 기술을 통해 강력한 배틀 파트너가 될 수 있습니다.\\n\\n5. **이브이(Espeon)**: 스피드와 특수 공격력이 뛰어나며, 다양한 기술을 배울 수 있어 전략적으로 활용할 수 있습니다.\\n\\n결국, 어떤 포켓몬이 가장 강한지는 배틀의 상황과 사용자의 전략에 따라 다를 수 있습니다. 특정 포켓몬이 강하다고 해도, 그에 맞는 상대와 상황이 중요하니 참고하세요!'"
      ]
     },
     "execution_count": 6,
     "metadata": {},
     "output_type": "execute_result"
    }
   ],
   "source": [
    "from langchain_core.runnables import RunnableSequence\n",
    "\n",
    "chain = RunnableSequence(prompt_template, model, output_parser)\n",
    "chain.invoke({'question': '어떤 포켓몬이 가장 강해?'})"
   ]
  },
  {
   "cell_type": "markdown",
   "id": "005469bf",
   "metadata": {},
   "source": [
    "### 단계별 Chatbot\n",
    "- 첫 대화에서 내 이름을 알려주고, 다음 대화에서 내 이름 기억하는지 물어보기!"
   ]
  },
  {
   "cell_type": "markdown",
   "id": "dec68a3b",
   "metadata": {},
   "source": [
    "1. 그냥 Chat\n",
    "- langchain_openai의 ChatOpenAI\n",
    "- langchain_core.messages의 클래스"
   ]
  },
  {
   "cell_type": "code",
   "execution_count": 7,
   "id": "05620126",
   "metadata": {},
   "outputs": [],
   "source": [
    "from langchain_openai import ChatOpenAI\n",
    "\n",
    "model = ChatOpenAI(\n",
    "    model_name='gpt-4o-mini',\n",
    "    temperature=0.5\n",
    ")"
   ]
  },
  {
   "cell_type": "code",
   "execution_count": 10,
   "id": "0e2afbef",
   "metadata": {},
   "outputs": [
    {
     "data": {
      "text/plain": [
       "'안녕, 토끼야! 만나서 반가워! 어떻게 지내고 있어?'"
      ]
     },
     "execution_count": 10,
     "metadata": {},
     "output_type": "execute_result"
    }
   ],
   "source": [
    "from langchain_core.messages import HumanMessage\n",
    "\n",
    "model.invoke([\n",
    "    HumanMessage('안녕! 내 이름은 토끼야!')\n",
    "]).content"
   ]
  },
  {
   "cell_type": "code",
   "execution_count": 11,
   "id": "bf38220e",
   "metadata": {},
   "outputs": [
    {
     "data": {
      "text/plain": [
       "'죄송하지만, 당신의 이름을 알 수 있는 정보는 없습니다. 이름을 알려주시면 그에 맞춰 대화할 수 있습니다!'"
      ]
     },
     "execution_count": 11,
     "metadata": {},
     "output_type": "execute_result"
    }
   ],
   "source": [
    "model.invoke([\n",
    "    HumanMessage('내 이름이 뭐라고 했지?')\n",
    "]).content"
   ]
  },
  {
   "cell_type": "markdown",
   "id": "aa21f629",
   "metadata": {},
   "source": [
    "2. 직접 대화 맥락 유지\n",
    "- langchain_openai의 ChatOpenAI\n",
    "- langchain_core.messages의 클래스"
   ]
  },
  {
   "cell_type": "code",
   "execution_count": 12,
   "id": "0fbfea82",
   "metadata": {},
   "outputs": [],
   "source": [
    "from langchain_openai import ChatOpenAI\n",
    "\n",
    "model = ChatOpenAI(\n",
    "    model_name='gpt-4o-mini',\n",
    "    temperature=0.5\n",
    ")"
   ]
  },
  {
   "cell_type": "code",
   "execution_count": 14,
   "id": "4f3b0f55",
   "metadata": {},
   "outputs": [
    {
     "name": "stdout",
     "output_type": "stream",
     "text": [
      "안녕, 토끼야! 만나서 반가워! 어떻게 지내고 있어?\n"
     ]
    }
   ],
   "source": [
    "from langchain_core.messages import HumanMessage, AIMessage\n",
    "\n",
    "first_response = model.invoke([\n",
    "    HumanMessage('안녕! 내 이름은 토끼야!')\n",
    "]).content\n",
    "print(first_response)"
   ]
  },
  {
   "cell_type": "code",
   "execution_count": 15,
   "id": "03d80149",
   "metadata": {},
   "outputs": [
    {
     "data": {
      "text/plain": [
       "'너의 이름은 토끼야! 맞지?'"
      ]
     },
     "execution_count": 15,
     "metadata": {},
     "output_type": "execute_result"
    }
   ],
   "source": [
    "model.invoke([\n",
    "    HumanMessage('안녕! 내 이름은 토끼야!'),\n",
    "    AIMessage(first_response),\n",
    "    HumanMessage('내 이름이 뭐라고 했지?')\n",
    "]).content"
   ]
  },
  {
   "cell_type": "markdown",
   "id": "215bcc8e",
   "metadata": {},
   "source": [
    "3. Memory로 대화 맥락 유지\n",
    "- langchain_openai의 ChatOpenAI\n",
    "- langchain_core.messages의 클래스\n",
    "- langchain_core.runnables의 클래스\n",
    "- langchain_core.prompts의 클래스"
   ]
  },
  {
   "cell_type": "code",
   "execution_count": 16,
   "id": "ac141b98",
   "metadata": {},
   "outputs": [],
   "source": [
    "from langchain_core.chat_history import BaseChatMessageHistory\n",
    "\n",
    "class InMemoryHistory(BaseChatMessageHistory):\n",
    "    def __init__(self):\n",
    "        self.messages = []\n",
    "\n",
    "    def add_messages(self, messages):\n",
    "        self.messages.extend(messages)\n",
    "        \n",
    "    def clear(self):\n",
    "        self.messages = []\n",
    "\n",
    "    def __repr__(self):\n",
    "        return str(self.messages)\n",
    "    \n",
    "\n",
    "store = {}  \n",
    "\n",
    "def get_by_session_id(session_id):\n",
    "    if session_id not in store:\n",
    "        store[session_id] = InMemoryHistory()\n",
    "    return store[session_id]"
   ]
  },
  {
   "cell_type": "code",
   "execution_count": 17,
   "id": "a18bea3b",
   "metadata": {},
   "outputs": [],
   "source": [
    "from langchain_openai import ChatOpenAI\n",
    "from langchain_core.prompts import ChatPromptTemplate, MessagesPlaceholder\n",
    "from langchain_core.runnables.history import RunnableWithMessageHistory\n",
    "from langchain_core.messages import SystemMessage, HumanMessage, AIMessage\n",
    "\n",
    "prompt = ChatPromptTemplate([\n",
    "    SystemMessage('당신은 몹시 친절하고 상냥하고 친근한 챗봇입니다.'),\n",
    "    MessagesPlaceholder('history'),\n",
    "    HumanMessage('{query}')\n",
    "])\n",
    "\n",
    "model = ChatOpenAI(model_name='gpt-4o-mini', temperature=0.5)\n",
    "chain = prompt | model\n",
    "\n",
    "chain_with_history = RunnableWithMessageHistory(\n",
    "    chain,\n",
    "    get_by_session_id,\n",
    "    input_messages_key='query',\n",
    "    history_messages_key='history'\n",
    ")"
   ]
  },
  {
   "cell_type": "code",
   "execution_count": 18,
   "id": "cb386532",
   "metadata": {},
   "outputs": [
    {
     "name": "stdout",
     "output_type": "stream",
     "text": [
      "content='안녕하세요! 무엇을 도와드릴까요? 궁금한 점이나 필요한 정보가 있다면 말씀해 주세요!' additional_kwargs={'refusal': None} response_metadata={'token_usage': {'completion_tokens': 26, 'prompt_tokens': 35, 'total_tokens': 61, 'completion_tokens_details': {'accepted_prediction_tokens': 0, 'audio_tokens': 0, 'reasoning_tokens': 0, 'rejected_prediction_tokens': 0}, 'prompt_tokens_details': {'audio_tokens': 0, 'cached_tokens': 0}}, 'model_name': 'gpt-4o-mini-2024-07-18', 'system_fingerprint': 'fp_dbaca60df0', 'id': 'chatcmpl-BOxHbqa7ZKlVUOHzRAsXSI1EJzoYZ', 'finish_reason': 'stop', 'logprobs': None} id='run-1fb36738-129c-4433-b84d-6a8fd2862e78-0' usage_metadata={'input_tokens': 35, 'output_tokens': 26, 'total_tokens': 61, 'input_token_details': {'audio': 0, 'cache_read': 0}, 'output_token_details': {'audio': 0, 'reasoning': 0}}\n"
     ]
    }
   ],
   "source": [
    "response = chain_with_history.invoke(\n",
    "    {'query': '안녕! 내 이름은 토끼야!'},\n",
    "    config={'configurable': {'session_id': 'rabbit'}}\n",
    ")\n",
    "\n",
    "print(response)"
   ]
  },
  {
   "cell_type": "code",
   "execution_count": 20,
   "id": "8ed5acdf",
   "metadata": {},
   "outputs": [
    {
     "name": "stdout",
     "output_type": "stream",
     "text": [
      "content='아, 죄송해요! 당신의 이름은 토끼라고 하셨죠. 토끼님, 오늘 기분이 어떠세요?' additional_kwargs={'refusal': None} response_metadata={'token_usage': {'completion_tokens': 32, 'prompt_tokens': 119, 'total_tokens': 151, 'completion_tokens_details': {'accepted_prediction_tokens': 0, 'audio_tokens': 0, 'reasoning_tokens': 0, 'rejected_prediction_tokens': 0}, 'prompt_tokens_details': {'audio_tokens': 0, 'cached_tokens': 0}}, 'model_name': 'gpt-4o-mini-2024-07-18', 'system_fingerprint': 'fp_dbaca60df0', 'id': 'chatcmpl-BOxLQW8TJe8Ht4ZR43CqCnEtykpfc', 'finish_reason': 'stop', 'logprobs': None} id='run-c4127466-b88a-4b45-b5a2-3c3693a5617c-0' usage_metadata={'input_tokens': 119, 'output_tokens': 32, 'total_tokens': 151, 'input_token_details': {'audio': 0, 'cache_read': 0}, 'output_token_details': {'audio': 0, 'reasoning': 0}}\n"
     ]
    }
   ],
   "source": [
    "response = chain_with_history.invoke(\n",
    "    {'query': '내 이름이 뭐라고 했지? 이름을 대답해봐'},\n",
    "    config={'configurable': {'session_id': 'rabbit'}}\n",
    ")\n",
    "\n",
    "print(response)"
   ]
  },
  {
   "cell_type": "code",
   "execution_count": 21,
   "id": "f125f4b4",
   "metadata": {},
   "outputs": [
    {
     "name": "stdout",
     "output_type": "stream",
     "text": [
      "🐇: 안녕! 내 이름은 토끼야!\n",
      "🤖: 안녕하세요! 무엇을 도와드릴까요? 궁금한 점이나 필요한 정보가 있다면 말씀해 주세요!\n",
      "🐇: 내 이름이 뭐라고 했지?\n",
      "🤖: 무엇을 도와드릴까요? 궁금한 점이나 이야기하고 싶은 주제가 있다면 말씀해 주세요!\n",
      "🐇: 내 이름이 뭐라고 했지? 이름을 대답해봐\n",
      "🤖: 아, 죄송해요! 당신의 이름은 토끼라고 하셨죠. 토끼님, 오늘 기분이 어떠세요?\n"
     ]
    }
   ],
   "source": [
    "# 채팅내역 뽑아보기\n",
    "for message in store['rabbit'].messages:\n",
    "    if isinstance(message, HumanMessage):\n",
    "        print(f'🐇: {message.content}')\n",
    "    elif isinstance(message, AIMessage):\n",
    "        print(f'🤖: {message.content}')"
   ]
  }
 ],
 "metadata": {
  "kernelspec": {
   "display_name": "vectordb_env",
   "language": "python",
   "name": "python3"
  },
  "language_info": {
   "codemirror_mode": {
    "name": "ipython",
    "version": 3
   },
   "file_extension": ".py",
   "mimetype": "text/x-python",
   "name": "python",
   "nbconvert_exporter": "python",
   "pygments_lexer": "ipython3",
   "version": "3.9.21"
  }
 },
 "nbformat": 4,
 "nbformat_minor": 5
}
