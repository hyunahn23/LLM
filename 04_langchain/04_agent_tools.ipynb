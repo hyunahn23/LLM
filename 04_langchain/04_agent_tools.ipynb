{
 "cells": [
  {
   "cell_type": "markdown",
   "id": "f85958e6",
   "metadata": {},
   "source": [
    "# Agent & Tools"
   ]
  },
  {
   "cell_type": "code",
   "execution_count": 14,
   "id": "339c7a7a",
   "metadata": {},
   "outputs": [
    {
     "data": {
      "text/plain": [
       "True"
      ]
     },
     "execution_count": 14,
     "metadata": {},
     "output_type": "execute_result"
    }
   ],
   "source": [
    "from dotenv import load_dotenv\n",
    "load_dotenv()"
   ]
  },
  {
   "cell_type": "code",
   "execution_count": null,
   "id": "7436c99a",
   "metadata": {},
   "outputs": [
    {
     "name": "stdout",
     "output_type": "stream",
     "text": [
      "Requirement already satisfied: numexpr in c:\\users\\playdata\\anaconda3\\envs\\vectordb_env\\lib\\site-packages (2.10.2)\n",
      "Requirement already satisfied: numpy>=1.23.0 in c:\\users\\playdata\\anaconda3\\envs\\vectordb_env\\lib\\site-packages (from numexpr) (2.0.2)\n"
     ]
    }
   ],
   "source": [
    "# !pip install wikipedia\n",
    "# !pip install langchain-community\n",
    "# !pip install numexpr"
   ]
  },
  {
   "cell_type": "code",
   "execution_count": 16,
   "id": "ecb6fa7d",
   "metadata": {},
   "outputs": [],
   "source": [
    "from langchain_openai import ChatOpenAI\n",
    "\n",
    "model = ChatOpenAI(\n",
    "    model_name='gpt-4o-mini',\n",
    "    temperature=0\n",
    ")"
   ]
  },
  {
   "cell_type": "code",
   "execution_count": 24,
   "id": "cfc1f46d",
   "metadata": {},
   "outputs": [
    {
     "data": {
      "text/plain": [
       "AIMessage(content='걸그룹 Geenius는 2023년에 데뷔한 그룹으로, 멤버들은 다음과 같습니다:\\n\\n1. **지유 (Jiyu)**\\n2. **하린 (Harin)**\\n3. **미래 (Mirae)**\\n4. **소희 (Sohee)**\\n5. **유나 (Yuna)**\\n\\n각 멤버는 다양한 매력과 재능을 가지고 있으며, 그룹의 음악과 활동에 기여하고 있습니다. 더 궁금한 점이 있으면 말씀해 주세요!', additional_kwargs={'refusal': None}, response_metadata={'token_usage': {'completion_tokens': 116, 'prompt_tokens': 18, 'total_tokens': 134, 'completion_tokens_details': {'accepted_prediction_tokens': 0, 'audio_tokens': 0, 'reasoning_tokens': 0, 'rejected_prediction_tokens': 0}, 'prompt_tokens_details': {'audio_tokens': 0, 'cached_tokens': 0}}, 'model_name': 'gpt-4o-mini-2024-07-18', 'system_fingerprint': 'fp_f7d56a8a2c', 'id': 'chatcmpl-BOyG9sZ2vGYON7kz0O6Ya2gapdfo7', 'finish_reason': 'stop', 'logprobs': None}, id='run-2745202e-15a2-4c12-96a1-ad5d95f451a7-0', usage_metadata={'input_tokens': 18, 'output_tokens': 116, 'total_tokens': 134, 'input_token_details': {'audio': 0, 'cache_read': 0}, 'output_token_details': {'audio': 0, 'reasoning': 0}})"
      ]
     },
     "execution_count": 24,
     "metadata": {},
     "output_type": "execute_result"
    }
   ],
   "source": [
    "model.invoke('걸그룹 Geenius 멤버를 알려줘')"
   ]
  },
  {
   "cell_type": "code",
   "execution_count": 18,
   "id": "431d5843",
   "metadata": {},
   "outputs": [
    {
     "name": "stderr",
     "output_type": "stream",
     "text": [
      "C:\\Users\\Playdata\\AppData\\Local\\Temp\\ipykernel_16944\\1488943080.py:5: LangChainDeprecationWarning: LangChain agents will continue to be supported, but it is recommended for new use cases to be built with LangGraph. LangGraph offers a more flexible and full-featured framework for building agents, including support for tool-calling, persistence of state, and human-in-the-loop workflows. For details, refer to the `LangGraph documentation <https://langchain-ai.github.io/langgraph/>`_ as well as guides for `Migrating from AgentExecutor <https://python.langchain.com/docs/how_to/migrate_agent/>`_ and LangGraph's `Pre-built ReAct agent <https://langchain-ai.github.io/langgraph/how-tos/create-react-agent/>`_.\n",
      "  agent = initialize_agent(\n"
     ]
    }
   ],
   "source": [
    "from langchain.agents import AgentType, initialize_agent, load_tools\n",
    "\n",
    "tools = load_tools(['wikipedia', 'llm-math'], llm=model)\n",
    "\n",
    "agent = initialize_agent(\n",
    "    tools,\n",
    "    model,\n",
    "    agent=AgentType.ZERO_SHOT_REACT_DESCRIPTION,\n",
    "    handle_parsing_error=True,\n",
    "    verbose=True\n",
    ")"
   ]
  },
  {
   "cell_type": "code",
   "execution_count": 25,
   "id": "2bfd2d67",
   "metadata": {},
   "outputs": [
    {
     "name": "stdout",
     "output_type": "stream",
     "text": [
      "\n",
      "\n",
      "\u001b[1m> Entering new AgentExecutor chain...\u001b[0m\n",
      "\u001b[32;1m\u001b[1;3mI need to find information about the members of the girl group Geenius. I'll search for details on Wikipedia.  \n",
      "Action: wikipedia  \n",
      "Action Input: Geenius (girl group)  \u001b[0m\n",
      "Observation: \u001b[36;1m\u001b[1;3mPage: Geenius\n",
      "Summary: Geenius (Korean: 지니어스; RR: Jinieoseu) is a South Korean girl group under HOMe. The group consists of five members: Yeyoung, Sion, Mika, Zoe, and Andamiro. They made their debut on January 5, 2024, with the digital single \"Voyage\".\n",
      "\n",
      "\n",
      "\n",
      "Page: List of South Korean girl groups\n",
      "Summary: South Korean girl groups refer to the all-female idol groups who are part of the K-pop industry. Korean girl groups have aided in the globalization of Korean culture. The Jeogori Sisters and The Kim Sisters have been noted as the origins of South Korean girl groups, the latter being the first South Korean group to succeed in the United States. First-generation girl groups such as S.E.S. and Fin.K.L, are cited to have laid the groundwork for the Korean Wave in the 2000s. In 2009, Wonder Girls' \"Nobody\" became the first K-pop song to enter the Billboard Hot 100.\n",
      "The \"Golden Age of Girl Groups\" refers to a significant shift in the K-pop industry characterized by the dominance of girl groups in music charts and album sales. This phenomenon gained prominence in the early 2020s, highlighted by the remarkable success of groups such as Blackpink, which became the first girl group to achieve \"double million seller\" status with over 2.14 million copies sold of their second full-length album, Born Pink. Other notable girl groups, including Aespa, Ive, and NewJeans, have also emerged as major players, achieving significant sales and chart success.\n",
      "\n",
      "Page: List of South Korean idol groups (2020s)\n",
      "Summary: These notable South Korean idol groups debuted in the 2020s. Only groups that have an article in Wikipedia are listed here.\n",
      "\n",
      "\u001b[0m\n",
      "Thought:\u001b[32;1m\u001b[1;3mI now know the final answer.  \n",
      "Final Answer: The members of the girl group Geenius are Yeyoung, Sion, Mika, Zoe, and Andamiro.\u001b[0m\n",
      "\n",
      "\u001b[1m> Finished chain.\u001b[0m\n"
     ]
    },
    {
     "data": {
      "text/plain": [
       "{'input': '걸그룹 Geenius 멤버를 알려줘',\n",
       " 'output': 'The members of the girl group Geenius are Yeyoung, Sion, Mika, Zoe, and Andamiro.'}"
      ]
     },
     "execution_count": 25,
     "metadata": {},
     "output_type": "execute_result"
    }
   ],
   "source": [
    "agent.invoke('걸그룹 Geenius 멤버를 알려줘')"
   ]
  }
 ],
 "metadata": {
  "kernelspec": {
   "display_name": "vectordb_env",
   "language": "python",
   "name": "python3"
  },
  "language_info": {
   "codemirror_mode": {
    "name": "ipython",
    "version": 3
   },
   "file_extension": ".py",
   "mimetype": "text/x-python",
   "name": "python",
   "nbconvert_exporter": "python",
   "pygments_lexer": "ipython3",
   "version": "3.9.21"
  }
 },
 "nbformat": 4,
 "nbformat_minor": 5
}
