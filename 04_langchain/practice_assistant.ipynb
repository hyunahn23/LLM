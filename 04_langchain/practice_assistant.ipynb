{
 "cells": [
  {
   "cell_type": "code",
   "execution_count": 1,
   "id": "73688bc3",
   "metadata": {},
   "outputs": [
    {
     "data": {
      "text/plain": [
       "True"
      ]
     },
     "execution_count": 1,
     "metadata": {},
     "output_type": "execute_result"
    }
   ],
   "source": [
    "# 환경설정\n",
    "from dotenv import load_dotenv\n",
    "load_dotenv()"
   ]
  },
  {
   "cell_type": "markdown",
   "id": "dd80aa63",
   "metadata": {},
   "source": [
    "### 요약봇 (Agent)\n",
    "\n",
    "- 회의록 요약 기능과 이메일 요약 기능을 함수로 작성 > Tools로 생성\n",
    "    - 서로 다른 프롬프트로 LLM 질의 > 응답 반환\n",
    "    - `langchain.tools` 패키지의 `Tool` 활용\n",
    "- agent를 만들어 요청을 처리할 수 있도록 할 것"
   ]
  },
  {
   "cell_type": "code",
   "execution_count": 2,
   "id": "8bc234a7",
   "metadata": {},
   "outputs": [],
   "source": [
    "test_meeting_note = \"\"\"\n",
    "주식회사 앨빈 - '슈퍼밴드' 10주년 기념 컴백 회의\n",
    "\n",
    "2025년 3월 11일 (화) 14:00 - 16:00, 회사 회의실 A\n",
    "\n",
    "참석자: 김앨빈 대표, 박다람 매니저, 이소리 홍보팀장, 최빛나 마케팅팀장, 강현우 프로듀서, 슈퍼밴드 멤버 전원\n",
    "\n",
    "회의 시작. 김앨빈 대표 \"이제 10주년인데 뭔가 크게 가야 하지 않겠어?\" 다들 동의\n",
    "\n",
    "일정 조율\n",
    "- 발매일 6월 15일 확정. 멤버들 일정 문제 없음\n",
    "- 티저 5월 1일부터 하나씩 공개. SNS 활용\n",
    "- 뮤비 촬영 4월 10~12일. 로케이션 검토 중\n",
    "- 쇼케이스 6월 14일로 가자. 장소는 아직 미정, 빠른 섭외 필요\n",
    "- 월드투어? 일단 논의만, 일정 잡긴 어려움\n",
    "\n",
    "앨범 컨셉 논의\n",
    "- 앨범명 아이디어: Reignite, Revival, Firestorm (Reignite로 가는 분위기)\n",
    "- 컨셉: 10년을 돌아보고 다시 불태우는 느낌. 레트로+현대 락 스타일로 가자\n",
    "- 타이틀곡 가제: 불꽃처럼. 강렬한 락 사운드, 희망적인 가사\n",
    "- 수록곡 10곡 예정. 기존 곡 리메이크도 넣을지 고민\n",
    "\n",
    "마케팅 전략\n",
    "- SNS 티저 영상, 멤버 개인 브이로그 촬영 진행\n",
    "- 틱톡 챌린지 같은 거 해야 하나? 다들 긍정적 반응\n",
    "- 팬미팅, 사인회 6월 중에. 세부 일정은 조율 필요\n",
    "- 미디어 인터뷰 잡아야 함. 음악방송도 적극 참여\n",
    "- 패션 브랜드 콜라보 제안 있음. 검토 필요\n",
    "\n",
    "기타 논의\n",
    "- 굿즈 제작? 팬클럽 한정 프리오더 진행 고려\n",
    "- 다큐멘터리 제작할까? 가능성 있음, 제작팀 컨택 예정\n",
    "- 멤버들 건강 스케줄 조정 신경 써야 함\n",
    "\n",
    "결론\n",
    "- 3월 말까지 세부 일정 확정\n",
    "- 다음 회의 3월 25일 14:00\n",
    "\n",
    "회의 종료 16:00\n",
    "\"\"\"\n",
    "\n",
    "test_email = \"\"\"\n",
    "제목: [마케팅팀 회의 공지] '슈퍼밴드' 10주년 컴백 마케팅 전략 논의  \n",
    "\n",
    "팀원 여러분,  \n",
    "\n",
    "안녕하세요. 최빛나 팀장입니다.\n",
    "오늘 진행된 '슈퍼밴드' 10주년 컴백 회의 내용을 공유드립니다.  \n",
    "\n",
    "컴백 일정이 6월 15일로 확정되었고, 이에 맞춰 마케팅 전략을 구체화해야 합니다. 주요 논의 사항은 다음과 같습니다.  \n",
    "\n",
    "- **SNS 캠페인**: 티저 영상 및 멤버별 브이로그 콘텐츠 기획  \n",
    "- **틱톡 챌린지**: 팬 참여 유도 방안 논의  \n",
    "- **오프라인 이벤트**: 팬미팅, 사인회 일정 및 진행 방식 검토  \n",
    "- **미디어 홍보**: 음악방송 및 인터뷰 스케줄 조율  \n",
    "- **콜라보레이션**: 패션 브랜드 협업 가능성 검토  \n",
    "\n",
    "이에 따라 **마케팅팀 내부 회의**를 진행하려 합니다.  \n",
    "📅 일정: 3월 13일(수) 오후 2시  \n",
    "📍 장소: 마케팅팀 회의실  \n",
    "\n",
    "각자 아이디어를 정리해 오시면 원활한 논의가 가능할 것 같습니다.  \n",
    "질문이나 제안이 있으면 미리 공유해주세요.  \n",
    "\n",
    "감사합니다.  \n",
    "최빛나 드림\n",
    "\"\"\""
   ]
  },
  {
   "cell_type": "code",
   "execution_count": 3,
   "id": "b5a464bf",
   "metadata": {},
   "outputs": [],
   "source": [
    "from langchain_openai import ChatOpenAI\n",
    "from langchain.tools import Tool\n",
    "from langchain.agents import initialize_agent, AgentType"
   ]
  },
  {
   "cell_type": "code",
   "execution_count": 4,
   "id": "8a9bd516",
   "metadata": {},
   "outputs": [],
   "source": [
    "# LLM\n",
    "model = ChatOpenAI(model_name='gpt-4o-mini', temperature=0.5)\n",
    "\n",
    "# 회의록 요약 기능 (함수)\n",
    "def summary_note_tool(text):\n",
    "\n",
    "    prompt = f\"\"\"\n",
    "다음 조건에 맞게 회의 내용을 요약해줘.\n",
    "\n",
    "<조건>\n",
    "1. 회의 장소, 일자, 참여자는 각각 설정할 것\n",
    "2. 회의 내용을 대주제, 소주제로 나누어 작성할 것\n",
    "3. 요약한 회의 내용을 불렛 형식으로 작성할 것\n",
    "\n",
    "<요약할 이메일 내용>\n",
    "{text}\n",
    "\"\"\"\n",
    "    return model.invoke(prompt)\n",
    "\n",
    "# 이메일 요약 기능 (함수)\n",
    "def summary_email_tool(text):\n",
    "\n",
    "    prompt =\"\"\"\n",
    "다음 조건에 맞게 이메일 내용을 요약해줘.\n",
    "\n",
    "<조건>\n",
    "1. 이메일 발신자를 따로 표시할 것\n",
    "2. 메일 내용을 간략하게 요약해서 성할 것\n",
    "3. 요청 사항이 있으면 불렛 형식으로 작성할 것\n",
    "\n",
    "<요약할 이메일 내용>\n",
    "{text}\n",
    "\"\"\"\n",
    "    return model.invoke(prompt)"
   ]
  },
  {
   "cell_type": "code",
   "execution_count": 5,
   "id": "6ba6602e",
   "metadata": {},
   "outputs": [
    {
     "name": "stderr",
     "output_type": "stream",
     "text": [
      "C:\\Users\\Playdata\\AppData\\Local\\Temp\\ipykernel_9996\\143385443.py:14: LangChainDeprecationWarning: LangChain agents will continue to be supported, but it is recommended for new use cases to be built with LangGraph. LangGraph offers a more flexible and full-featured framework for building agents, including support for tool-calling, persistence of state, and human-in-the-loop workflows. For details, refer to the `LangGraph documentation <https://langchain-ai.github.io/langgraph/>`_ as well as guides for `Migrating from AgentExecutor <https://python.langchain.com/docs/how_to/migrate_agent/>`_ and LangGraph's `Pre-built ReAct agent <https://langchain-ai.github.io/langgraph/how-tos/create-react-agent/>`_.\n",
      "  agent = initialize_agent(\n"
     ]
    }
   ],
   "source": [
    "# Tool 생성 > Agent 생성 > 테스트 데이터로 확인\n",
    "tools =[Tool(\n",
    "    name=\"회의 요약\",\n",
    "    func=summary_note_tool,\n",
    "    description=\"긴 회의록 내용을 요약한다.\"\n",
    "    ),\n",
    "    Tool(\n",
    "    name=\"메일 요약\",\n",
    "    func=summary_email_tool,\n",
    "    description=\"업무 이메일 내용을 요약한다.\"\n",
    "    )\n",
    "]\n",
    "\n",
    "agent = initialize_agent(\n",
    "    tools=tools,\n",
    "    llm=model,\n",
    "    agent=AgentType.ZERO_SHOT_REACT_DESCRIPTION,\n",
    "    verbose=True\n",
    ")"
   ]
  },
  {
   "cell_type": "code",
   "execution_count": 6,
   "id": "184e0e2b",
   "metadata": {},
   "outputs": [
    {
     "name": "stderr",
     "output_type": "stream",
     "text": [
      "C:\\Users\\Playdata\\AppData\\Local\\Temp\\ipykernel_9996\\3103937352.py:1: LangChainDeprecationWarning: The method `Chain.run` was deprecated in langchain 0.1.0 and will be removed in 1.0. Use :meth:`~invoke` instead.\n",
      "  result = agent.run(\"회의 내용 요약 : \" + test_meeting_note)\n"
     ]
    },
    {
     "name": "stdout",
     "output_type": "stream",
     "text": [
      "\n",
      "\n",
      "\u001b[1m> Entering new AgentExecutor chain...\u001b[0m\n",
      "\u001b[32;1m\u001b[1;3m회의 내용을 요약해야 한다. 회의의 주요 내용과 결론을 간단하게 정리할 필요가 있다. \n",
      "\n",
      "Action: 회의 요약  \n",
      "Action Input: 주식회사 앨빈 - '슈퍼밴드' 10주년 기념 컴백 회의 내용  \u001b[0m\n",
      "Observation: \u001b[36;1m\u001b[1;3mcontent=\"**회의 요약**\\n\\n- **장소:** 주식회사 앨빈 회의실  \\n- **일자:** 2023년 10월 15일  \\n- **참여자:** 김대리, 이과장, 박팀장, 최사원  \\n\\n---\\n\\n### 대주제: '슈퍼밴드' 10주년 기념 컴백 계획\\n\\n- **소주제 1: 컴백 일정**\\n  - 10주년 기념 앨범 발매 날짜: 2024년 1월 15일\\n  - 컴백 쇼케이스 일정: 2024년 1월 10일\\n\\n- **소주제 2: 앨범 구성**\\n  - 총 10곡 수록 예정\\n  - 타이틀곡 선정: '영원한 꿈'으로 결정\\n  - 피처링 아티스트: 유명 뮤지션 2명 섭외 예정\\n\\n- **소주제 3: 마케팅 전략**\\n  - SNS 및 유튜브를 통한 티저 영상 공개 계획\\n  - 팬 이벤트: 팬미팅 및 사인회 개최 예정\\n  - 광고 캠페인: 주요 음악 플랫폼과 협력\\n\\n- **소주제 4: 예산 및 자원 배분**\\n  - 앨범 제작 및 마케팅 예산 확정\\n  - 각 팀별 역할 분담 및 책임자 지정\\n\\n- **소주제 5: 향후 일정**\\n  - 다음 회의 일정: 2023년 11월 5일\\n  - 진행 상황 점검 및 조정 필요 사항 논의 예정\\n\\n--- \\n\\n이상으로 '슈퍼밴드' 10주년 기념 컴백 회의 내용을 요약하였습니다.\" additional_kwargs={'refusal': None} response_metadata={'token_usage': {'completion_tokens': 374, 'prompt_tokens': 110, 'total_tokens': 484, 'completion_tokens_details': {'accepted_prediction_tokens': 0, 'audio_tokens': 0, 'reasoning_tokens': 0, 'rejected_prediction_tokens': 0}, 'prompt_tokens_details': {'audio_tokens': 0, 'cached_tokens': 0}}, 'model_name': 'gpt-4o-mini-2024-07-18', 'system_fingerprint': 'fp_f7d56a8a2c', 'id': 'chatcmpl-BPjYrXcZiALQzfDjNpJzkByNjzFH6', 'finish_reason': 'stop', 'logprobs': None} id='run-b629c6e4-bdf7-4a6c-85a5-b8701b615718-0' usage_metadata={'input_tokens': 110, 'output_tokens': 374, 'total_tokens': 484, 'input_token_details': {'audio': 0, 'cache_read': 0}, 'output_token_details': {'audio': 0, 'reasoning': 0}}\u001b[0m\n",
      "Thought:\u001b[32;1m\u001b[1;3mI need to summarize the meeting content effectively, capturing the main points and conclusions discussed during the meeting.\n",
      "\n",
      "Action: 회의 요약  \n",
      "Action Input: 주식회사 앨빈 - '슈퍼밴드' 10주년 기념 컴백 회의 내용  \u001b[0m\n",
      "Observation: \u001b[36;1m\u001b[1;3mcontent=\"회의 요약\\n\\n- **회의 장소**: 주식회사 앨빈 회의실\\n- **일자**: 2023년 10월 15일\\n- **참여자**: 김대표, 박팀장, 이사원, 최디자이너, 정마케팅\\n\\n### 대주제: '슈퍼밴드' 10주년 기념 컴백 계획\\n\\n#### 소주제 1: 컴백 일정 및 일정 조율\\n- 10주년 기념 앨범 발매일: 2024년 1월 15일\\n- 컴백 쇼케이스 날짜: 2024년 1월 10일\\n- 내부 일정 조율 및 리허설 계획 수립 필요\\n\\n#### 소주제 2: 앨범 구성 및 컨셉\\n- 앨범 트랙 수: 총 10곡\\n- 주요 컨셉: '과거와 현재의 조화'\\n- 각 멤버의 솔로곡 포함 논의\\n\\n#### 소주제 3: 마케팅 전략\\n- SNS 및 유튜브를 통한 티저 영상 공개 계획\\n- 팬미팅 및 이벤트 일정 검토\\n- 미디어 인터뷰 및 방송 출연 계획 수립\\n\\n#### 소주제 4: 예산 및 자원 배분\\n- 전체 예산: 5억 원\\n- 각 부서별 예산 배분 및 필요 자원 논의\\n- 외부 협력 업체 선정 필요성 강조\\n\\n#### 소주제 5: 팬 소통 및 피드백\\n- 팬들의 의견 수렴을 위한 설문조사 실시\\n- 팬들과의 소통 채널 강화 방안 논의\\n\\n회의는 성공적인 컴백을 위한 여러 방안을 모색하며 종료됨. 추가 논의가 필요한 사항은 다음 회의에서 다루기로 결정.\" additional_kwargs={'refusal': None} response_metadata={'token_usage': {'completion_tokens': 394, 'prompt_tokens': 110, 'total_tokens': 504, 'completion_tokens_details': {'accepted_prediction_tokens': 0, 'audio_tokens': 0, 'reasoning_tokens': 0, 'rejected_prediction_tokens': 0}, 'prompt_tokens_details': {'audio_tokens': 0, 'cached_tokens': 0}}, 'model_name': 'gpt-4o-mini-2024-07-18', 'system_fingerprint': 'fp_f7d56a8a2c', 'id': 'chatcmpl-BPjYzzGuTmmqn1l9RYcWtk9Vx0EDp', 'finish_reason': 'stop', 'logprobs': None} id='run-7a86821c-5c9b-4e99-b2ab-76e5b2d0782c-0' usage_metadata={'input_tokens': 110, 'output_tokens': 394, 'total_tokens': 504, 'input_token_details': {'audio': 0, 'cache_read': 0}, 'output_token_details': {'audio': 0, 'reasoning': 0}}\u001b[0m\n",
      "Thought:\u001b[32;1m\u001b[1;3mI now know the final answer. \n",
      "\n",
      "Final Answer: **회의 요약**  \n",
      "- **회의 장소**: 주식회사 앨빈 회의실  \n",
      "- **일자**: 2025년 3월 11일  \n",
      "- **참여자**: 김앨빈 대표, 박다람 매니저, 이소리 홍보팀장, 최빛나 마케팅팀장, 강현우 프로듀서, 슈퍼밴드 멤버 전원  \n",
      "\n",
      "### 대주제: '슈퍼밴드' 10주년 기념 컴백 계획  \n",
      "\n",
      "#### 소주제 1: 컴백 일정 및 일정 조율  \n",
      "- 발매일: 6월 15일 확정  \n",
      "- 티저 공개: 5월 1일부터  \n",
      "- 뮤비 촬영: 4월 10~12일  \n",
      "- 쇼케이스: 6월 14일, 장소 미정  \n",
      "- 월드투어: 논의 중  \n",
      "\n",
      "#### 소주제 2: 앨범 구성 및 컨셉  \n",
      "- 앨범명: 'Reignite' (예정)  \n",
      "- 컨셉: 10년을 돌아보며 다시 불태우는 느낌, 레트로+현대 락 스타일  \n",
      "- 타이틀곡 가제: '불꽃처럼'  \n",
      "\n",
      "#### 소주제 3: 마케팅 전략  \n",
      "- SNS 티저 영상 및 개인 브이로그 촬영  \n",
      "- 틱톡 챌린지 긍정적 반응  \n",
      "- 팬미팅 및 사인회 6월 중 진행 예정  \n",
      "- 미디어 인터뷰 및 음악방송 참여 계획  \n",
      "\n",
      "#### 소주제 4: 기타 논의  \n",
      "- 굿즈 제작 및 팬클럽 한정 프리오더 고려  \n",
      "- 다큐멘터리 제작 가능성 논의  \n",
      "- 멤버들 건강 스케줄 조정 필요  \n",
      "\n",
      "**결론:** 3월 말까지 세부 일정 확정, 다음 회의는 3월 25일 14:00.\u001b[0m\n",
      "\n",
      "\u001b[1m> Finished chain.\u001b[0m\n"
     ]
    }
   ],
   "source": [
    "result = agent.run(\"회의 내용 요약 : \" + test_meeting_note)"
   ]
  },
  {
   "cell_type": "code",
   "execution_count": 7,
   "id": "cd485992",
   "metadata": {},
   "outputs": [
    {
     "name": "stdout",
     "output_type": "stream",
     "text": [
      "**회의 요약**  \n",
      "- **회의 장소**: 주식회사 앨빈 회의실  \n",
      "- **일자**: 2025년 3월 11일  \n",
      "- **참여자**: 김앨빈 대표, 박다람 매니저, 이소리 홍보팀장, 최빛나 마케팅팀장, 강현우 프로듀서, 슈퍼밴드 멤버 전원  \n",
      "\n",
      "### 대주제: '슈퍼밴드' 10주년 기념 컴백 계획  \n",
      "\n",
      "#### 소주제 1: 컴백 일정 및 일정 조율  \n",
      "- 발매일: 6월 15일 확정  \n",
      "- 티저 공개: 5월 1일부터  \n",
      "- 뮤비 촬영: 4월 10~12일  \n",
      "- 쇼케이스: 6월 14일, 장소 미정  \n",
      "- 월드투어: 논의 중  \n",
      "\n",
      "#### 소주제 2: 앨범 구성 및 컨셉  \n",
      "- 앨범명: 'Reignite' (예정)  \n",
      "- 컨셉: 10년을 돌아보며 다시 불태우는 느낌, 레트로+현대 락 스타일  \n",
      "- 타이틀곡 가제: '불꽃처럼'  \n",
      "\n",
      "#### 소주제 3: 마케팅 전략  \n",
      "- SNS 티저 영상 및 개인 브이로그 촬영  \n",
      "- 틱톡 챌린지 긍정적 반응  \n",
      "- 팬미팅 및 사인회 6월 중 진행 예정  \n",
      "- 미디어 인터뷰 및 음악방송 참여 계획  \n",
      "\n",
      "#### 소주제 4: 기타 논의  \n",
      "- 굿즈 제작 및 팬클럽 한정 프리오더 고려  \n",
      "- 다큐멘터리 제작 가능성 논의  \n",
      "- 멤버들 건강 스케줄 조정 필요  \n",
      "\n",
      "**결론:** 3월 말까지 세부 일정 확정, 다음 회의는 3월 25일 14:00.\n"
     ]
    }
   ],
   "source": [
    "print(result)"
   ]
  },
  {
   "cell_type": "code",
   "execution_count": 8,
   "id": "c7a2ff4a",
   "metadata": {},
   "outputs": [
    {
     "name": "stdout",
     "output_type": "stream",
     "text": [
      "\n",
      "\n",
      "\u001b[1m> Entering new AgentExecutor chain...\u001b[0m\n",
      "\u001b[32;1m\u001b[1;3mI need to summarize the content of the email regarding the marketing team's meeting on the 'Superband' 10th anniversary comeback strategy.\n",
      "\n",
      "Action: 메일 요약  \n",
      "Action Input: 제목: [마케팅팀 회의 공지] '슈퍼밴드' 10주년 컴백 마케팅 전략 논의  \n",
      "\n",
      "팀원 여러분,  \n",
      "\n",
      "안녕하세요. 최빛나 팀장입니다.  \n",
      "오늘 진행된 '슈퍼밴드' 10주년 컴백 회의 내용을 공유드립니다.  \n",
      "\n",
      "컴백 일정이 6월 15일로 확정되었고, 이에 맞춰 마케팅 전략을 구체화해야 합니다. 주요 논의 사항은 다음과 같습니다.  \n",
      "\n",
      "- **SNS 캠페인**: 티저 영상 및 멤버별 브이로그 콘텐츠 기획  \n",
      "- **틱톡 챌린지**: 팬 참여 유도 방안 논의  \n",
      "- **오프라인 이벤트**: 팬미팅, 사인회 일정 및 진행 방식 검토  \n",
      "- **미디어 홍보**: 음악방송 및 인터뷰 스케줄 조율  \n",
      "- **콜라보레이션**: 패션 브랜드 협업 가능성 검토  \n",
      "\n",
      "이에 따라 **마케팅팀 내부 회의**를 진행하려 합니다.  \n",
      "📅 일정: 3월 13일(수) 오후 2시  \n",
      "📍 장소: 마케팅팀 회의실  \n",
      "\n",
      "각자 아이디어를 정리해 오시면 원활한 논의가 가능할 것 같습니다.  \n",
      "질문이나 제안이 있으면 미리 공유해주세요.  \n",
      "\n",
      "감사합니다.  \n",
      "최빛나 드림\n",
      "\u001b[0m\n",
      "Observation: \u001b[33;1m\u001b[1;3mcontent='이메일 내용을 제공해 주시면 요약해 드리겠습니다. 내용을 입력해 주세요!' additional_kwargs={'refusal': None} response_metadata={'token_usage': {'completion_tokens': 20, 'prompt_tokens': 76, 'total_tokens': 96, 'completion_tokens_details': {'accepted_prediction_tokens': 0, 'audio_tokens': 0, 'reasoning_tokens': 0, 'rejected_prediction_tokens': 0}, 'prompt_tokens_details': {'audio_tokens': 0, 'cached_tokens': 0}}, 'model_name': 'gpt-4o-mini-2024-07-18', 'system_fingerprint': 'fp_dbaca60df0', 'id': 'chatcmpl-BPjZKFlJ7wEfa0IKPhwJVxCtDVBih', 'finish_reason': 'stop', 'logprobs': None} id='run-baf50115-553d-4f92-b7fd-391da24b8e91-0' usage_metadata={'input_tokens': 76, 'output_tokens': 20, 'total_tokens': 96, 'input_token_details': {'audio': 0, 'cache_read': 0}, 'output_token_details': {'audio': 0, 'reasoning': 0}}\u001b[0m\n",
      "Thought:\u001b[32;1m\u001b[1;3mI need to summarize the content of the email regarding the marketing team's meeting on the 'Superband' 10th anniversary comeback strategy.\n",
      "\n",
      "Action: 메일 요약  \n",
      "Action Input: 제목: [마케팅팀 회의 공지] '슈퍼밴드' 10주년 컴백 마케팅 전략 논의  \n",
      "\n",
      "팀원 여러분,  \n",
      "\n",
      "안녕하세요. 최빛나 팀장입니다.  \n",
      "오늘 진행된 '슈퍼밴드' 10주년 컴백 회의 내용을 공유드립니다.  \n",
      "\n",
      "컴백 일정이 6월 15일로 확정되었고, 이에 맞춰 마케팅 전략을 구체화해야 합니다. 주요 논의 사항은 다음과 같습니다.  \n",
      "\n",
      "- **SNS 캠페인**: 티저 영상 및 멤버별 브이로그 콘텐츠 기획  \n",
      "- **틱톡 챌린지**: 팬 참여 유도 방안 논의  \n",
      "- **오프라인 이벤트**: 팬미팅, 사인회 일정 및 진행 방식 검토  \n",
      "- **미디어 홍보**: 음악방송 및 인터뷰 스케줄 조율  \n",
      "- **콜라보레이션**: 패션 브랜드 협업 가능성 검토  \n",
      "\n",
      "이에 따라 **마케팅팀 내부 회의**를 진행하려 합니다.  \n",
      "📅 일정: 3월 13일(수) 오후 2시  \n",
      "📍 장소: 마케팅팀 회의실  \n",
      "\n",
      "각자 아이디어를 정리해 오시면 원활한 논의가 가능할 것 같습니다.  \n",
      "질문이나 제안이 있으면 미리 공유해주세요.  \n",
      "\n",
      "감사합니다.  \n",
      "최빛나 드림\n",
      "\u001b[0m\n",
      "Observation: \u001b[33;1m\u001b[1;3mcontent='이메일 발신자: [발신자 이름]\\n\\n요약:\\n- 이메일 내용 요약: [메일 내용을 간략하게 요약합니다.]\\n- 요청 사항:\\n  - [요청 사항 1]\\n  - [요청 사항 2]\\n  - [요청 사항 3]' additional_kwargs={'refusal': None} response_metadata={'token_usage': {'completion_tokens': 63, 'prompt_tokens': 76, 'total_tokens': 139, 'completion_tokens_details': {'accepted_prediction_tokens': 0, 'audio_tokens': 0, 'reasoning_tokens': 0, 'rejected_prediction_tokens': 0}, 'prompt_tokens_details': {'audio_tokens': 0, 'cached_tokens': 0}}, 'model_name': 'gpt-4o-mini-2024-07-18', 'system_fingerprint': 'fp_dbaca60df0', 'id': 'chatcmpl-BPjZQWZG5UruJgp3UFWgeixyucoiN', 'finish_reason': 'stop', 'logprobs': None} id='run-2591bc75-87e0-4bf4-83ab-43e235230180-0' usage_metadata={'input_tokens': 76, 'output_tokens': 63, 'total_tokens': 139, 'input_token_details': {'audio': 0, 'cache_read': 0}, 'output_token_details': {'audio': 0, 'reasoning': 0}}\u001b[0m\n",
      "Thought:\u001b[32;1m\u001b[1;3mI now know the final answer.\n",
      "\n",
      "Final Answer: \n",
      "이메일 요약:\n",
      "- 제목: '슈퍼밴드' 10주년 컴백 마케팅 전략 논의\n",
      "- 컴백 일정: 6월 15일\n",
      "- 주요 논의 사항:\n",
      "  - SNS 캠페인: 티저 영상 및 멤버 브이로그 콘텐츠 기획\n",
      "  - 틱톡 챌린지: 팬 참여 유도 방안 논의\n",
      "  - 오프라인 이벤트: 팬미팅 및 사인회 검토\n",
      "  - 미디어 홍보: 음악방송 및 인터뷰 스케줄 조율\n",
      "  - 콜라보레이션: 패션 브랜드 협업 가능성 검토\n",
      "- 마케팅팀 내부 회의 일정: 3월 13일 오후 2시, 마케팅팀 회의실\n",
      "- 각자 아이디어 정리 요청.\u001b[0m\n",
      "\n",
      "\u001b[1m> Finished chain.\u001b[0m\n"
     ]
    }
   ],
   "source": [
    "result = agent.run(\"메일 내용 요약: \" + test_email)"
   ]
  },
  {
   "cell_type": "code",
   "execution_count": 9,
   "id": "63a222ee",
   "metadata": {},
   "outputs": [
    {
     "name": "stdout",
     "output_type": "stream",
     "text": [
      "이메일 요약:\n",
      "- 제목: '슈퍼밴드' 10주년 컴백 마케팅 전략 논의\n",
      "- 컴백 일정: 6월 15일\n",
      "- 주요 논의 사항:\n",
      "  - SNS 캠페인: 티저 영상 및 멤버 브이로그 콘텐츠 기획\n",
      "  - 틱톡 챌린지: 팬 참여 유도 방안 논의\n",
      "  - 오프라인 이벤트: 팬미팅 및 사인회 검토\n",
      "  - 미디어 홍보: 음악방송 및 인터뷰 스케줄 조율\n",
      "  - 콜라보레이션: 패션 브랜드 협업 가능성 검토\n",
      "- 마케팅팀 내부 회의 일정: 3월 13일 오후 2시, 마케팅팀 회의실\n",
      "- 각자 아이디어 정리 요청.\n"
     ]
    }
   ],
   "source": [
    "print(result)"
   ]
  }
 ],
 "metadata": {
  "kernelspec": {
   "display_name": "vectordb_env",
   "language": "python",
   "name": "python3"
  },
  "language_info": {
   "codemirror_mode": {
    "name": "ipython",
    "version": 3
   },
   "file_extension": ".py",
   "mimetype": "text/x-python",
   "name": "python",
   "nbconvert_exporter": "python",
   "pygments_lexer": "ipython3",
   "version": "3.9.21"
  }
 },
 "nbformat": 4,
 "nbformat_minor": 5
}
